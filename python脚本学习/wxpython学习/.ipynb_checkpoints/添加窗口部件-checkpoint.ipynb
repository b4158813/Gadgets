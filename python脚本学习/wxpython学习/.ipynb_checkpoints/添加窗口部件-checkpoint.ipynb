{
 "cells": [
  {
   "cell_type": "markdown",
   "metadata": {},
   "source": [
    "## 添加一个close按钮"
   ]
  },
  {
   "cell_type": "code",
   "execution_count": 17,
   "metadata": {},
   "outputs": [],
   "source": [
    "import wx\n",
    "\n",
    "class InsertFrame(wx.Frame):\n",
    "    def __init__(self,parent,id):\n",
    "        wx.Frame.__init__(self,parent,id,'Frame with Button',size=(300,100))\n",
    "        panel = wx.Panel(self) # 创建画板\n",
    "        # 创建按钮\n",
    "        button = wx.Button(panel, label='Close', pos=(125,10), size=(50,50))\n",
    "        # 绑定按钮的点击事件\n",
    "        self.Bind(wx.EVT_BUTTON, self.OnCloseMe, button)\n",
    "        # 绑定按钮的关闭事件\n",
    "        self.Bind(wx.EVT_CLOSE, self.OnCloseWindow)\n",
    "        \n",
    "    def OnCloseMe(self,event):\n",
    "        self.Close(True)\n",
    "        \n",
    "    def OnCloseWindow(self,event):\n",
    "        self.Destroy()\n",
    "        \n",
    "if __name__=='__main__':\n",
    "    app = wx.App()\n",
    "    frame = InsertFrame(parent=None,id=-1)\n",
    "    frame.Show()\n",
    "    app.MainLoop()"
   ]
  },
  {
   "cell_type": "markdown",
   "metadata": {},
   "source": [
    "## 添加菜单栏、工具栏、状态栏"
   ]
  },
  {
   "cell_type": "code",
   "execution_count": null,
   "metadata": {},
   "outputs": [],
   "source": [
    "import wx\n",
    "import wx.py.images as images\n",
    "\n",
    "\n",
    "class ToolbarFrame(wx.Frame):\n",
    "    def __init__(self, parent, id):\n",
    "        wx.Frame.__init__(self, parent, id, 'Toolbars', size=(300,200))\n",
    "        panel = wx.Panel(self)\n",
    "        panel.SetBackgroundColour(\"White\")\n",
    "        statusBar = self.CreateStatusBar() # 创建状态栏\n",
    "        toolbar = self.CreateToolBar() # 创建工具栏\n",
    "        toolbar.AddSimpleTool(wx.NewId(), images.getPyBitmap(), \"New\", \"Long help for New\")\n",
    "        toolbar.Realize() # 显示工具栏\n",
    "        menuBar = wx.MenuBar() # 创建菜单栏\n",
    "        \n",
    "        # 创建两个菜单栏\n",
    "        menu1 = wx.Menu() \n",
    "        menuBar.Append(menu1, \" 1\")\n",
    "        menu2 = wx.Menu()\n",
    "        \n",
    "        # 参数分别是（ID，选项的文本，鼠标停留时显示在状态栏的文本）\n",
    "        menu2.Append(wx.NewId(),\"ahah \",\"Copy in status bar\")\n",
    "        menu2.Append(wx.NewId(),\"C\",\"123\")\n",
    "        menu2.Append(wx.NewId(),\"Paste\",\"456\")\n",
    "        menu2.AppendSeparator()\n",
    "        menu2.Append(wx.NewId(),\"okay\",\"Display Options\")\n",
    "        menuBar.Append(menu2, \" 2\")\n",
    "        self.SetMenuBar(menuBar)\n",
    "        \n",
    "if __name__=='__main__':\n",
    "    app=wx.App()\n",
    "    frame=ToolbarFrame(parent=None, id=-1)\n",
    "    frame.Show()\n",
    "    app.MainLoop()"
   ]
  },
  {
   "cell_type": "code",
   "execution_count": null,
   "metadata": {},
   "outputs": [],
   "source": []
  }
 ],
 "metadata": {
  "kernelspec": {
   "display_name": "Python 3",
   "language": "python",
   "name": "python3"
  },
  "language_info": {
   "codemirror_mode": {
    "name": "ipython",
    "version": 3
   },
   "file_extension": ".py",
   "mimetype": "text/x-python",
   "name": "python",
   "nbconvert_exporter": "python",
   "pygments_lexer": "ipython3",
   "version": "3.7.4"
  }
 },
 "nbformat": 4,
 "nbformat_minor": 2
}
