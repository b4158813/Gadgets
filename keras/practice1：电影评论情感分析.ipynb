{
 "cells": [
  {
   "cell_type": "code",
   "execution_count": 1,
   "metadata": {},
   "outputs": [
    {
     "name": "stdout",
     "output_type": "stream",
     "text": [
      "2.0.0\n"
     ]
    }
   ],
   "source": [
    "from __future__ import absolute_import, division, print_function, unicode_literals\n",
    "\n",
    "try:\n",
    "  # Colab only\n",
    "  %tensorflow_version 2.x\n",
    "except Exception:\n",
    "    pass\n",
    "import tensorflow as tf\n",
    "from tensorflow import keras\n",
    "\n",
    "import numpy as np\n",
    "\n",
    "print(tf.__version__)"
   ]
  },
  {
   "cell_type": "code",
   "execution_count": 2,
   "metadata": {},
   "outputs": [
    {
     "name": "stdout",
     "output_type": "stream",
     "text": [
      "Downloading data from https://storage.googleapis.com/tensorflow/tf-keras-datasets/imdb.npz\n",
      "17465344/17464789 [==============================] - 8s 0us/step\n"
     ]
    }
   ],
   "source": [
    "imdb = keras.datasets.imdb\n",
    "\n",
    "(train_data, train_labels), (test_data, test_labels) = imdb.load_data(num_words=10000)"
   ]
  },
  {
   "cell_type": "code",
   "execution_count": 3,
   "metadata": {},
   "outputs": [
    {
     "name": "stdout",
     "output_type": "stream",
     "text": [
      "Training entries:25000,labels:25000\n"
     ]
    }
   ],
   "source": [
    "print(\"Training entries:{},labels:{}\".format(len(train_data),len(train_labels)))"
   ]
  },
  {
   "cell_type": "code",
   "execution_count": 4,
   "metadata": {
    "scrolled": true
   },
   "outputs": [
    {
     "data": {
      "text/plain": [
       "[1,\n",
       " 14,\n",
       " 22,\n",
       " 16,\n",
       " 43,\n",
       " 530,\n",
       " 973,\n",
       " 1622,\n",
       " 1385,\n",
       " 65,\n",
       " 458,\n",
       " 4468,\n",
       " 66,\n",
       " 3941,\n",
       " 4,\n",
       " 173,\n",
       " 36,\n",
       " 256,\n",
       " 5,\n",
       " 25,\n",
       " 100,\n",
       " 43,\n",
       " 838,\n",
       " 112,\n",
       " 50,\n",
       " 670,\n",
       " 2,\n",
       " 9,\n",
       " 35,\n",
       " 480,\n",
       " 284,\n",
       " 5,\n",
       " 150,\n",
       " 4,\n",
       " 172,\n",
       " 112,\n",
       " 167,\n",
       " 2,\n",
       " 336,\n",
       " 385,\n",
       " 39,\n",
       " 4,\n",
       " 172,\n",
       " 4536,\n",
       " 1111,\n",
       " 17,\n",
       " 546,\n",
       " 38,\n",
       " 13,\n",
       " 447,\n",
       " 4,\n",
       " 192,\n",
       " 50,\n",
       " 16,\n",
       " 6,\n",
       " 147,\n",
       " 2025,\n",
       " 19,\n",
       " 14,\n",
       " 22,\n",
       " 4,\n",
       " 1920,\n",
       " 4613,\n",
       " 469,\n",
       " 4,\n",
       " 22,\n",
       " 71,\n",
       " 87,\n",
       " 12,\n",
       " 16,\n",
       " 43,\n",
       " 530,\n",
       " 38,\n",
       " 76,\n",
       " 15,\n",
       " 13,\n",
       " 1247,\n",
       " 4,\n",
       " 22,\n",
       " 17,\n",
       " 515,\n",
       " 17,\n",
       " 12,\n",
       " 16,\n",
       " 626,\n",
       " 18,\n",
       " 2,\n",
       " 5,\n",
       " 62,\n",
       " 386,\n",
       " 12,\n",
       " 8,\n",
       " 316,\n",
       " 8,\n",
       " 106,\n",
       " 5,\n",
       " 4,\n",
       " 2223,\n",
       " 5244,\n",
       " 16,\n",
       " 480,\n",
       " 66,\n",
       " 3785,\n",
       " 33,\n",
       " 4,\n",
       " 130,\n",
       " 12,\n",
       " 16,\n",
       " 38,\n",
       " 619,\n",
       " 5,\n",
       " 25,\n",
       " 124,\n",
       " 51,\n",
       " 36,\n",
       " 135,\n",
       " 48,\n",
       " 25,\n",
       " 1415,\n",
       " 33,\n",
       " 6,\n",
       " 22,\n",
       " 12,\n",
       " 215,\n",
       " 28,\n",
       " 77,\n",
       " 52,\n",
       " 5,\n",
       " 14,\n",
       " 407,\n",
       " 16,\n",
       " 82,\n",
       " 2,\n",
       " 8,\n",
       " 4,\n",
       " 107,\n",
       " 117,\n",
       " 5952,\n",
       " 15,\n",
       " 256,\n",
       " 4,\n",
       " 2,\n",
       " 7,\n",
       " 3766,\n",
       " 5,\n",
       " 723,\n",
       " 36,\n",
       " 71,\n",
       " 43,\n",
       " 530,\n",
       " 476,\n",
       " 26,\n",
       " 400,\n",
       " 317,\n",
       " 46,\n",
       " 7,\n",
       " 4,\n",
       " 2,\n",
       " 1029,\n",
       " 13,\n",
       " 104,\n",
       " 88,\n",
       " 4,\n",
       " 381,\n",
       " 15,\n",
       " 297,\n",
       " 98,\n",
       " 32,\n",
       " 2071,\n",
       " 56,\n",
       " 26,\n",
       " 141,\n",
       " 6,\n",
       " 194,\n",
       " 7486,\n",
       " 18,\n",
       " 4,\n",
       " 226,\n",
       " 22,\n",
       " 21,\n",
       " 134,\n",
       " 476,\n",
       " 26,\n",
       " 480,\n",
       " 5,\n",
       " 144,\n",
       " 30,\n",
       " 5535,\n",
       " 18,\n",
       " 51,\n",
       " 36,\n",
       " 28,\n",
       " 224,\n",
       " 92,\n",
       " 25,\n",
       " 104,\n",
       " 4,\n",
       " 226,\n",
       " 65,\n",
       " 16,\n",
       " 38,\n",
       " 1334,\n",
       " 88,\n",
       " 12,\n",
       " 16,\n",
       " 283,\n",
       " 5,\n",
       " 16,\n",
       " 4472,\n",
       " 113,\n",
       " 103,\n",
       " 32,\n",
       " 15,\n",
       " 16,\n",
       " 5345,\n",
       " 19,\n",
       " 178,\n",
       " 32]"
      ]
     },
     "execution_count": 4,
     "metadata": {},
     "output_type": "execute_result"
    }
   ],
   "source": [
    "train_data[0]"
   ]
  },
  {
   "cell_type": "code",
   "execution_count": 6,
   "metadata": {},
   "outputs": [
    {
     "data": {
      "text/plain": [
       "array([1, 0, 0, 1, 0, 0, 1, 0, 1, 0], dtype=int64)"
      ]
     },
     "execution_count": 6,
     "metadata": {},
     "output_type": "execute_result"
    }
   ],
   "source": [
    "train_labels[:10]"
   ]
  },
  {
   "cell_type": "code",
   "execution_count": 9,
   "metadata": {},
   "outputs": [
    {
     "data": {
      "text/plain": [
       "(218, 189)"
      ]
     },
     "execution_count": 9,
     "metadata": {},
     "output_type": "execute_result"
    }
   ],
   "source": [
    "len(train_data[0]),len(train_data[1])"
   ]
  },
  {
   "cell_type": "code",
   "execution_count": 11,
   "metadata": {},
   "outputs": [
    {
     "name": "stdout",
     "output_type": "stream",
     "text": [
      "Downloading data from https://storage.googleapis.com/tensorflow/tf-keras-datasets/imdb_word_index.json\n",
      "1646592/1641221 [==============================] - 1s 1us/step\n"
     ]
    }
   ],
   "source": [
    "word_index = imdb.get_word_index()\n",
    "\n",
    "word_index = {k:(v+3) for k,v in word_index.items()}\n",
    "word_index[\"<PAD>\"]=0\n",
    "word_index[\"<START>\"]=1\n",
    "word_index[\"<UNK>\"]=2\n",
    "word_index[\"<UNUSED>\"]=3\n",
    "\n",
    "reverse_word_index = dict([(value, key)for (key, value) in word_index.items()])\n",
    "\n",
    "def decode_review(text):\n",
    "    return ' '.join([reverse_word_index.get(i, '?') for i in text])"
   ]
  },
  {
   "cell_type": "code",
   "execution_count": 12,
   "metadata": {
    "collapsed": true
   },
   "outputs": [
    {
     "data": {
      "text/plain": [
       "\"<START> this film was just brilliant casting location scenery story direction everyone's really suited the part they played and you could just imagine being there robert <UNK> is an amazing actor and now the same being director <UNK> father came from the same scottish island as myself so i loved the fact there was a real connection with this film the witty remarks throughout the film were great it was just brilliant so much that i bought the film as soon as it was released for <UNK> and would recommend it to everyone to watch and the fly fishing was amazing really cried at the end it was so sad and you know what they say if you cry at a film it must have been good and this definitely was also <UNK> to the two little boy's that played the <UNK> of norman and paul they were just brilliant children are often left out of the <UNK> list i think because the stars that play them all grown up are such a big profile for the whole film but these children are amazing and should be praised for what they have done don't you think the whole story was so lovely because it was true and was someone's life after all that was shared with us all\""
      ]
     },
     "execution_count": 12,
     "metadata": {},
     "output_type": "execute_result"
    }
   ],
   "source": [
    "decode_review(train_data[0])"
   ]
  },
  {
   "cell_type": "code",
   "execution_count": 27,
   "metadata": {},
   "outputs": [
    {
     "data": {
      "text/plain": [
       "256"
      ]
     },
     "execution_count": 27,
     "metadata": {},
     "output_type": "execute_result"
    }
   ],
   "source": [
    "maxlen=0\n",
    "for i in range(25000):\n",
    "    maxlen=max(maxlen,len(train_data[i]))\n",
    "maxlen"
   ]
  },
  {
   "cell_type": "markdown",
   "metadata": {},
   "source": [
    "### 为保证神经网络input层维度相同，需要进行预处理\n",
    "### 我们使用“0”填充每个评论的数组"
   ]
  },
  {
   "cell_type": "code",
   "execution_count": 16,
   "metadata": {},
   "outputs": [],
   "source": [
    "train_data = keras.preprocessing.sequence.pad_sequences(train_data,\n",
    "                                                       value=word_index[\"<PAD>\"],\n",
    "                                                       padding='post',\n",
    "                                                       maxlen=256)\n",
    "\n",
    "test_data = keras.preprocessing.sequence.pad_sequences(test_data,\n",
    "                                                     value=word_index[\"<PAD>\"],\n",
    "                                                     padding='post',\n",
    "                                                     maxlen=256)"
   ]
  },
  {
   "cell_type": "code",
   "execution_count": 17,
   "metadata": {},
   "outputs": [
    {
     "data": {
      "text/plain": [
       "(256, 256)"
      ]
     },
     "execution_count": 17,
     "metadata": {},
     "output_type": "execute_result"
    }
   ],
   "source": [
    "len(train_data[0]),len(train_data[1])"
   ]
  },
  {
   "cell_type": "code",
   "execution_count": 18,
   "metadata": {
    "collapsed": true
   },
   "outputs": [
    {
     "data": {
      "text/plain": [
       "array([   1,   14,   22,   16,   43,  530,  973, 1622, 1385,   65,  458,\n",
       "       4468,   66, 3941,    4,  173,   36,  256,    5,   25,  100,   43,\n",
       "        838,  112,   50,  670,    2,    9,   35,  480,  284,    5,  150,\n",
       "          4,  172,  112,  167,    2,  336,  385,   39,    4,  172, 4536,\n",
       "       1111,   17,  546,   38,   13,  447,    4,  192,   50,   16,    6,\n",
       "        147, 2025,   19,   14,   22,    4, 1920, 4613,  469,    4,   22,\n",
       "         71,   87,   12,   16,   43,  530,   38,   76,   15,   13, 1247,\n",
       "          4,   22,   17,  515,   17,   12,   16,  626,   18,    2,    5,\n",
       "         62,  386,   12,    8,  316,    8,  106,    5,    4, 2223, 5244,\n",
       "         16,  480,   66, 3785,   33,    4,  130,   12,   16,   38,  619,\n",
       "          5,   25,  124,   51,   36,  135,   48,   25, 1415,   33,    6,\n",
       "         22,   12,  215,   28,   77,   52,    5,   14,  407,   16,   82,\n",
       "          2,    8,    4,  107,  117, 5952,   15,  256,    4,    2,    7,\n",
       "       3766,    5,  723,   36,   71,   43,  530,  476,   26,  400,  317,\n",
       "         46,    7,    4,    2, 1029,   13,  104,   88,    4,  381,   15,\n",
       "        297,   98,   32, 2071,   56,   26,  141,    6,  194, 7486,   18,\n",
       "          4,  226,   22,   21,  134,  476,   26,  480,    5,  144,   30,\n",
       "       5535,   18,   51,   36,   28,  224,   92,   25,  104,    4,  226,\n",
       "         65,   16,   38, 1334,   88,   12,   16,  283,    5,   16, 4472,\n",
       "        113,  103,   32,   15,   16, 5345,   19,  178,   32,    0,    0,\n",
       "          0,    0,    0,    0,    0,    0,    0,    0,    0,    0,    0,\n",
       "          0,    0,    0,    0,    0,    0,    0,    0,    0,    0,    0,\n",
       "          0,    0,    0,    0,    0,    0,    0,    0,    0,    0,    0,\n",
       "          0,    0,    0])"
      ]
     },
     "execution_count": 18,
     "metadata": {},
     "output_type": "execute_result"
    }
   ],
   "source": [
    "train_data[0]"
   ]
  },
  {
   "cell_type": "markdown",
   "metadata": {},
   "source": [
    "### 构建模型"
   ]
  },
  {
   "cell_type": "code",
   "execution_count": 34,
   "metadata": {},
   "outputs": [
    {
     "name": "stdout",
     "output_type": "stream",
     "text": [
      "Model: \"sequential_5\"\n",
      "_________________________________________________________________\n",
      "Layer (type)                 Output Shape              Param #   \n",
      "=================================================================\n",
      "embedding_3 (Embedding)      (None, None, 16)          160000    \n",
      "_________________________________________________________________\n",
      "global_average_pooling1d_3 ( (None, 16)                0         \n",
      "_________________________________________________________________\n",
      "dense_6 (Dense)              (None, 16)                272       \n",
      "_________________________________________________________________\n",
      "dense_7 (Dense)              (None, 1)                 17        \n",
      "=================================================================\n",
      "Total params: 160,289\n",
      "Trainable params: 160,289\n",
      "Non-trainable params: 0\n",
      "_________________________________________________________________\n"
     ]
    }
   ],
   "source": [
    "vocab_size = 10000\n",
    "\n",
    "model = keras.Sequential()\n",
    "# 首层为嵌入层\n",
    "model.add(keras.layers.Embedding(vocab_size,16))\n",
    "# 隐含层1：对序列维度平均池化操作\n",
    "model.add(keras.layers.GlobalAveragePooling1D())\n",
    "# 隐含层2：16个隐层单元的全连接层\n",
    "model.add(keras.layers.Dense(16, activation='relu'))\n",
    "# 输出层：使用sigmoid激活函数，函数值为0~1之间的浮点数，表示置信度\n",
    "model.add(keras.layers.Dense(1, activation='sigmoid'))\n",
    "\n",
    "model.summary()"
   ]
  },
  {
   "cell_type": "markdown",
   "metadata": {},
   "source": [
    "### 损失函数&优化器"
   ]
  },
  {
   "cell_type": "code",
   "execution_count": 35,
   "metadata": {},
   "outputs": [],
   "source": [
    "model.compile(optimizer='adam',\n",
    "             loss='binary_crossentropy',\n",
    "             metrics=['accuracy'])"
   ]
  },
  {
   "cell_type": "code",
   "execution_count": 37,
   "metadata": {},
   "outputs": [],
   "source": [
    "x_val = train_data[:10000]\n",
    "partial_x_train = train_data[10000:]\n",
    "\n",
    "y_val = train_labels[:10000]\n",
    "partial_y_train = train_labels[10000:]"
   ]
  },
  {
   "cell_type": "code",
   "execution_count": 38,
   "metadata": {
    "collapsed": true
   },
   "outputs": [
    {
     "name": "stdout",
     "output_type": "stream",
     "text": [
      "Train on 15000 samples, validate on 10000 samples\n",
      "Epoch 1/40\n",
      "15000/15000 [==============================] - 4s 289us/sample - loss: 0.6920 - accuracy: 0.5453 - val_loss: 0.6904 - val_accuracy: 0.5485\n",
      "Epoch 2/40\n",
      "15000/15000 [==============================] - 2s 131us/sample - loss: 0.6865 - accuracy: 0.6654 - val_loss: 0.6823 - val_accuracy: 0.7313\n",
      "Epoch 3/40\n",
      "15000/15000 [==============================] - 2s 127us/sample - loss: 0.6741 - accuracy: 0.7606 - val_loss: 0.6667 - val_accuracy: 0.7504\n",
      "Epoch 4/40\n",
      "15000/15000 [==============================] - 2s 130us/sample - loss: 0.6517 - accuracy: 0.7693 - val_loss: 0.6417 - val_accuracy: 0.7625\n",
      "Epoch 5/40\n",
      "15000/15000 [==============================] - 2s 119us/sample - loss: 0.6192 - accuracy: 0.7859 - val_loss: 0.6072 - val_accuracy: 0.7825\n",
      "Epoch 6/40\n",
      "15000/15000 [==============================] - 2s 118us/sample - loss: 0.5780 - accuracy: 0.8050 - val_loss: 0.5678 - val_accuracy: 0.7979\n",
      "Epoch 7/40\n",
      "15000/15000 [==============================] - 2s 115us/sample - loss: 0.5331 - accuracy: 0.8237 - val_loss: 0.5260 - val_accuracy: 0.8153\n",
      "Epoch 8/40\n",
      "15000/15000 [==============================] - 2s 121us/sample - loss: 0.4875 - accuracy: 0.8413 - val_loss: 0.4855 - val_accuracy: 0.8276\n",
      "Epoch 9/40\n",
      "15000/15000 [==============================] - 2s 114us/sample - loss: 0.4442 - accuracy: 0.8549 - val_loss: 0.4489 - val_accuracy: 0.8396\n",
      "Epoch 10/40\n",
      "15000/15000 [==============================] - 2s 114us/sample - loss: 0.4055 - accuracy: 0.8689 - val_loss: 0.4180 - val_accuracy: 0.8480\n",
      "Epoch 11/40\n",
      "15000/15000 [==============================] - 2s 119us/sample - loss: 0.3719 - accuracy: 0.8791 - val_loss: 0.3925 - val_accuracy: 0.8543\n",
      "Epoch 12/40\n",
      "15000/15000 [==============================] - 2s 116us/sample - loss: 0.3437 - accuracy: 0.8866 - val_loss: 0.3710 - val_accuracy: 0.8616\n",
      "Epoch 13/40\n",
      "15000/15000 [==============================] - 2s 114us/sample - loss: 0.3200 - accuracy: 0.8934 - val_loss: 0.3540 - val_accuracy: 0.8664\n",
      "Epoch 14/40\n",
      "15000/15000 [==============================] - 2s 115us/sample - loss: 0.2992 - accuracy: 0.8987 - val_loss: 0.3407 - val_accuracy: 0.8715\n",
      "Epoch 15/40\n",
      "15000/15000 [==============================] - 2s 113us/sample - loss: 0.2816 - accuracy: 0.9038 - val_loss: 0.3298 - val_accuracy: 0.8727\n",
      "Epoch 16/40\n",
      "15000/15000 [==============================] - 2s 121us/sample - loss: 0.2659 - accuracy: 0.9077 - val_loss: 0.3205 - val_accuracy: 0.8759\n",
      "Epoch 17/40\n",
      "15000/15000 [==============================] - 2s 103us/sample - loss: 0.2521 - accuracy: 0.9133 - val_loss: 0.3140 - val_accuracy: 0.8759\n",
      "Epoch 18/40\n",
      "15000/15000 [==============================] - 2s 103us/sample - loss: 0.2394 - accuracy: 0.9176 - val_loss: 0.3081 - val_accuracy: 0.8781\n",
      "Epoch 19/40\n",
      "15000/15000 [==============================] - 2s 103us/sample - loss: 0.2278 - accuracy: 0.9219 - val_loss: 0.3018 - val_accuracy: 0.8808\n",
      "Epoch 20/40\n",
      "15000/15000 [==============================] - 2s 103us/sample - loss: 0.2170 - accuracy: 0.9251 - val_loss: 0.2979 - val_accuracy: 0.8827\n",
      "Epoch 21/40\n",
      "15000/15000 [==============================] - 2s 102us/sample - loss: 0.2073 - accuracy: 0.9298 - val_loss: 0.2945 - val_accuracy: 0.8818\n",
      "Epoch 22/40\n",
      "15000/15000 [==============================] - 2s 102us/sample - loss: 0.1981 - accuracy: 0.9324 - val_loss: 0.2914 - val_accuracy: 0.8830\n",
      "Epoch 23/40\n",
      "15000/15000 [==============================] - 2s 107us/sample - loss: 0.1895 - accuracy: 0.9367 - val_loss: 0.2900 - val_accuracy: 0.8837\n",
      "Epoch 24/40\n",
      "15000/15000 [==============================] - 2s 103us/sample - loss: 0.1816 - accuracy: 0.9406 - val_loss: 0.2877 - val_accuracy: 0.8838\n",
      "Epoch 25/40\n",
      "15000/15000 [==============================] - 2s 101us/sample - loss: 0.1739 - accuracy: 0.9441 - val_loss: 0.2865 - val_accuracy: 0.8844\n",
      "Epoch 26/40\n",
      "15000/15000 [==============================] - 2s 104us/sample - loss: 0.1670 - accuracy: 0.9471 - val_loss: 0.2874 - val_accuracy: 0.8823\n",
      "Epoch 27/40\n",
      "15000/15000 [==============================] - 2s 105us/sample - loss: 0.1605 - accuracy: 0.9495 - val_loss: 0.2862 - val_accuracy: 0.8850\n",
      "Epoch 28/40\n",
      "15000/15000 [==============================] - 2s 151us/sample - loss: 0.1540 - accuracy: 0.9525 - val_loss: 0.2858 - val_accuracy: 0.8854\n",
      "Epoch 29/40\n",
      "15000/15000 [==============================] - 2s 162us/sample - loss: 0.1477 - accuracy: 0.9554 - val_loss: 0.2859 - val_accuracy: 0.8858\n",
      "Epoch 30/40\n",
      "15000/15000 [==============================] - 2s 154us/sample - loss: 0.1425 - accuracy: 0.9569 - val_loss: 0.2873 - val_accuracy: 0.8855\n",
      "Epoch 31/40\n",
      "15000/15000 [==============================] - 2s 143us/sample - loss: 0.1368 - accuracy: 0.9592 - val_loss: 0.2885 - val_accuracy: 0.8855\n",
      "Epoch 32/40\n",
      "15000/15000 [==============================] - 2s 132us/sample - loss: 0.1317 - accuracy: 0.9617 - val_loss: 0.2895 - val_accuracy: 0.8861\n",
      "Epoch 33/40\n",
      "15000/15000 [==============================] - 2s 133us/sample - loss: 0.1267 - accuracy: 0.9637 - val_loss: 0.2906 - val_accuracy: 0.8856\n",
      "Epoch 34/40\n",
      "15000/15000 [==============================] - 2s 138us/sample - loss: 0.1219 - accuracy: 0.9651 - val_loss: 0.2926 - val_accuracy: 0.8862\n",
      "Epoch 35/40\n",
      "15000/15000 [==============================] - 2s 136us/sample - loss: 0.1171 - accuracy: 0.9675 - val_loss: 0.2943 - val_accuracy: 0.8858\n",
      "Epoch 36/40\n",
      "15000/15000 [==============================] - 2s 134us/sample - loss: 0.1127 - accuracy: 0.9684 - val_loss: 0.2980 - val_accuracy: 0.8844\n",
      "Epoch 37/40\n",
      "15000/15000 [==============================] - 2s 136us/sample - loss: 0.1088 - accuracy: 0.9699 - val_loss: 0.2999 - val_accuracy: 0.8854\n",
      "Epoch 38/40\n",
      "15000/15000 [==============================] - 2s 137us/sample - loss: 0.1046 - accuracy: 0.9709 - val_loss: 0.3019 - val_accuracy: 0.8839\n",
      "Epoch 39/40\n",
      "15000/15000 [==============================] - 2s 131us/sample - loss: 0.1006 - accuracy: 0.9729 - val_loss: 0.3042 - val_accuracy: 0.8837\n",
      "Epoch 40/40\n",
      "15000/15000 [==============================] - 2s 136us/sample - loss: 0.0967 - accuracy: 0.9741 - val_loss: 0.3072 - val_accuracy: 0.8833\n"
     ]
    }
   ],
   "source": [
    "history = model.fit(partial_x_train,\n",
    "                   partial_y_train,\n",
    "                   epochs=40,\n",
    "                   batch_size=512,\n",
    "                   validation_data=(x_val,y_val),\n",
    "                   verbose=1)"
   ]
  },
  {
   "cell_type": "code",
   "execution_count": 39,
   "metadata": {},
   "outputs": [
    {
     "name": "stdout",
     "output_type": "stream",
     "text": [
      "25000/1 - 2s - loss: 0.3151 - accuracy: 0.8725\n",
      "[0.3276316051864624, 0.87248]\n"
     ]
    }
   ],
   "source": [
    "results = model.evaluate(test_data, test_labels, verbose=2)\n",
    "print(results)"
   ]
  },
  {
   "cell_type": "code",
   "execution_count": 40,
   "metadata": {},
   "outputs": [
    {
     "data": {
      "text/plain": [
       "dict_keys(['loss', 'accuracy', 'val_loss', 'val_accuracy'])"
      ]
     },
     "execution_count": 40,
     "metadata": {},
     "output_type": "execute_result"
    }
   ],
   "source": [
    "history_dict = history.history\n",
    "history_dict.keys()"
   ]
  },
  {
   "cell_type": "code",
   "execution_count": 42,
   "metadata": {},
   "outputs": [
    {
     "data": {
      "image/png": "[encoded data removed]",
      "text/plain": [
       "<Figure size 432x288 with 1 Axes>"
      ]
     },
     "metadata": {
      "needs_background": "light"
     },
     "output_type": "display_data"
    }
   ],
   "source": [
    "import matplotlib.pyplot as plt\n",
    "\n",
    "acc = history_dict['accuracy']\n",
    "val_acc = history_dict['val_accuracy']\n",
    "loss = history_dict['loss']\n",
    "val_loss = history_dict['val_loss']\n",
    "\n",
    "epochs = range(1, len(acc)+1)\n",
    "\n",
    "plt.plot(epochs, loss, 'bo', label='Training loss')\n",
    "plt.plot(epochs, val_loss, 'b', label='Validation loss')\n",
    "plt.title('Training and validation loss')\n",
    "plt.xlabel('Epochs')\n",
    "plt.ylabel('Loss')\n",
    "plt.legend()\n",
    "\n",
    "plt.show()"
   ]
  },
  {
   "cell_type": "code",
   "execution_count": 44,
   "metadata": {},
   "outputs": [
    {
     "data": {
      "image/png": "[encoded data removed]",
      "text/plain": [
       "<Figure size 432x288 with 1 Axes>"
      ]
     },
     "metadata": {
      "needs_background": "light"
     },
     "output_type": "display_data"
    }
   ],
   "source": [
    "plt.clf()\n",
    "\n",
    "plt.plot(epochs, acc, 'bo', label='Training acc')\n",
    "plt.plot(epochs, val_acc, 'b', label='Validation acc')\n",
    "plt.title(\"Training and validation accuracy\")\n",
    "plt.xlabel('Epochs')\n",
    "plt.ylabel('Accuracy')\n",
    "plt.legend()\n",
    "\n",
    "plt.show()"
   ]
  },
  {
   "cell_type": "markdown",
   "metadata": {},
   "source": [
    "### 验证过程的损失值（loss）与准确率（accuracy）的情况却并非如此——它们似乎在 20 个 epoch 后达到峰值。这是过拟合的一个实例：模型在训练数据上的表现比在以前从未见过的数据上的表现要更好。在此之后，模型过度优化并学习特定于训练数据的表示，而不能够泛化到测试数据。"
   ]
  },
  {
   "cell_type": "code",
   "execution_count": null,
   "metadata": {},
   "outputs": [],
   "source": []
  }
 ],
 "metadata": {
  "kernelspec": {
   "display_name": "Python 3",
   "language": "python",
   "name": "python3"
  },
  "language_info": {
   "codemirror_mode": {
    "name": "ipython",
    "version": 3
   },
   "file_extension": ".py",
   "mimetype": "text/x-python",
   "name": "python",
   "nbconvert_exporter": "python",
   "pygments_lexer": "ipython3",
   "version": "3.7.4"
  }
 },
 "nbformat": 4,
 "nbformat_minor": 2
}
